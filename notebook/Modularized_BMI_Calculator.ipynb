{
  "nbformat": 4,
  "nbformat_minor": 0,
  "metadata": {
    "colab": {
      "provenance": []
    },
    "kernelspec": {
      "name": "python3",
      "display_name": "Python 3"
    },
    "language_info": {
      "name": "python"
    }
  },
  "cells": [
    {
      "cell_type": "markdown",
      "source": [
        "Focusing on mastering advanced Python concepts and techniques to implement a BMI calculator.\n",
        "Writing clean, professional, and efficient code to solve real-world health-related problems.\n",
        "Developing a deeper understanding of algorithms and best practices for user input handling.\n",
        "Emphasizing error handling and user-friendly interactions to enhance the BMI calculation process.\n",
        "Striving for maintainable and scalable code to handle various unit systems and user inputs effectively.\n",
        "\n",
        "\n",
        "\n"
      ],
      "metadata": {
        "id": "-ZBvTnojsTqS"
      }
    },
    {
      "cell_type": "code",
      "source": [
        "def calculate_bmi(weight_kg: float, height_m: float) -> float:\n",
        "    \"\"\"\n",
        "    Calculate the Body Mass Index (BMI) given weight in kilograms and height in meters.\n",
        "\n",
        "    :param weight_kg: Weight in kilograms.\n",
        "    :param height_m: Height in meters.\n",
        "    :return: BMI rounded to two decimal places.\n",
        "    \"\"\"\n",
        "    if height_m <= 0:\n",
        "        raise ValueError(\"Height must be a positive number.\")\n",
        "    return round(weight_kg / (height_m ** 2), 2)"
      ],
      "metadata": {
        "id": "tp1ZMpaBr28t"
      },
      "execution_count": null,
      "outputs": []
    },
    {
      "cell_type": "code",
      "source": [
        "\n",
        "def get_bmi_category(bmi: float) -> str:\n",
        "    \"\"\"\n",
        "    Classify the BMI into a health category.\n",
        "\n",
        "    :param bmi: The BMI value.\n",
        "    :return: A string representing the health category.\n",
        "    \"\"\"\n",
        "    if bmi < 18.5:\n",
        "        return \"Underweight\"\n",
        "    elif 18.5 <= bmi < 25:\n",
        "        return \"Normal weight\"\n",
        "    elif 25 <= bmi < 30:\n",
        "        return \"Overweight\"\n",
        "    else:\n",
        "        return \"Obesity\""
      ],
      "metadata": {
        "id": "ujOz2Grgscf1"
      },
      "execution_count": null,
      "outputs": []
    },
    {
      "cell_type": "code",
      "source": [
        "\n",
        "def convert_imperial_to_metric(weight_lb: float, height_in: float) -> tuple[float, float]:\n",
        "    \"\"\"\n",
        "    Convert imperial units (pounds and inches) to metric units (kilograms and meters).\n",
        "\n",
        "    :param weight_lb: Weight in pounds.\n",
        "    :param height_in: Height in inches.\n",
        "    :return: A tuple containing the weight in kilograms and height in meters.\n",
        "    \"\"\"\n",
        "    weight_kg = weight_lb / 2.20462\n",
        "    height_m = height_in / 39.3701\n",
        "    return weight_kg, height_m\n"
      ],
      "metadata": {
        "id": "6dM9XB2Ish_8"
      },
      "execution_count": null,
      "outputs": []
    },
    {
      "cell_type": "code",
      "source": [
        "\n",
        "def main():\n",
        "    \"\"\"\n",
        "    Main function to prompt the user for input, calculate BMI, and output the result with the category.\n",
        "    \"\"\"\n",
        "    unit_system = input(\"Enter the unit system (metric/imperial): \").strip().lower()\n",
        "\n",
        "    try:\n",
        "        if unit_system == \"metric\":\n",
        "            weight_kg = float(input(\"Enter your weight in kilograms: \"))\n",
        "            height_m = float(input(\"Enter your height in meters: \"))\n",
        "        elif unit_system == \"imperial\":\n",
        "            weight_lb = float(input(\"Enter your weight in pounds: \"))\n",
        "            height_in = float(input(\"Enter your height in inches: \"))\n",
        "            weight_kg, height_m = convert_imperial_to_metric(weight_lb, height_in)\n",
        "        else:\n",
        "            print(\"Invalid unit system entered.\")\n",
        "            return\n",
        "\n",
        "        # Calculate BMI\n",
        "        bmi = calculate_bmi(weight_kg, height_m)\n",
        "\n",
        "        # Output the result with the corresponding health category\n",
        "        bmi_category = get_bmi_category(bmi)\n",
        "        print(f\"Your BMI is {bmi}, which falls under the category: {bmi_category}\")\n",
        "\n",
        "    except ValueError as e:\n",
        "        print(f\"Error: {e}\")\n",
        "    except Exception as e:\n",
        "        print(f\"Unexpected error: {e}\")"
      ],
      "metadata": {
        "id": "aY2yd88Esk3p"
      },
      "execution_count": null,
      "outputs": []
    },
    {
      "cell_type": "code",
      "source": [
        "if __name__ == \"__main__\":\n",
        "    main()"
      ],
      "metadata": {
        "id": "Yj4NKYdgskxm"
      },
      "execution_count": null,
      "outputs": []
    },
    {
      "cell_type": "code",
      "source": [],
      "metadata": {
        "id": "-_IaQmwrskvC"
      },
      "execution_count": null,
      "outputs": []
    }
  ]
}