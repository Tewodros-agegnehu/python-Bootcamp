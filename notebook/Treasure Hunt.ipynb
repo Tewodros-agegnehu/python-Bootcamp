{
  "nbformat": 4,
  "nbformat_minor": 0,
  "metadata": {
    "colab": {
      "provenance": []
    },
    "kernelspec": {
      "name": "python3",
      "display_name": "Python 3"
    },
    "language_info": {
      "name": "python"
    }
  },
  "cells": [
    {
      "cell_type": "markdown",
      "source": [
        "How the Game Works:\n",
        "\n",
        "1. Create Board: Board size is chosen by the player.\n",
        "\n",
        "2. Place Treasure & Trap: Treasure (T) and trap (X) are placed randomly.\n",
        "\n",
        "3. Player Guess: Player guesses the treasure’s location.\n",
        "\n",
        "4. Check Guess: If the player guesses correctly or falls into the trap, the 5. game ends.\n",
        "\n",
        "5. Display Final Board: The board is revealed with both the treasure and trap locations."
      ],
      "metadata": {
        "id": "_dANWm2gxT48"
      }
    },
    {
      "cell_type": "code",
      "execution_count": null,
      "metadata": {
        "id": "xdSUJpDVwlq9"
      },
      "outputs": [],
      "source": []
    },
    {
      "cell_type": "code",
      "source": [
        "import random"
      ],
      "metadata": {
        "id": "NwSBAksnwqJe"
      },
      "execution_count": 1,
      "outputs": []
    },
    {
      "cell_type": "code",
      "source": [
        "# Function to create the game board\n",
        "def create_board(rows, cols):\n",
        "    return [['*' for _ in range(cols)] for _ in range(rows)]"
      ],
      "metadata": {
        "id": "_heupSQJwqGz"
      },
      "execution_count": 3,
      "outputs": []
    },
    {
      "cell_type": "code",
      "source": [
        "# Function to display the board\n",
        "def display_board(board):\n",
        "    for row in board:\n",
        "        print(\" \".join(row))"
      ],
      "metadata": {
        "id": "zggch8F5wqEO"
      },
      "execution_count": 4,
      "outputs": []
    },
    {
      "cell_type": "code",
      "source": [
        "# Function to place the treasure on the board\n",
        "def place_treasure(board, rows, cols):\n",
        "    \"\"\"Place the treasure (T) on the board at a random location.\"\"\"\n",
        "    row = random.randint(0, rows - 1)\n",
        "    col = random.randint(0, cols - 1)\n",
        "    board[row][col] = 'T'\n",
        "    return (row, col)  # Return the coordinates of the treasure"
      ],
      "metadata": {
        "id": "64pzgaHCwp21"
      },
      "execution_count": 8,
      "outputs": []
    },
    {
      "cell_type": "code",
      "source": [
        "# Function to place the trap on the board\n",
        "def place_trap(board, rows, cols, treasure_location):\n",
        "    \"\"\"Place the trap (X) on the board at a random location that is not the treasure.\"\"\"\n",
        "    while True:\n",
        "        row = random.randint(0, rows - 1)\n",
        "        col = random.randint(0, cols - 1)\n",
        "        if (row, col) != treasure_location:  # Make sure the trap doesn't overlap with the treasure\n",
        "            board[row][col] = 'X'\n",
        "            return (row, col)  # Return the coordinates of the trap"
      ],
      "metadata": {
        "id": "BEgN9b89w6wn"
      },
      "execution_count": 9,
      "outputs": []
    },
    {
      "cell_type": "code",
      "source": [
        "# Function to prompt the player for a guess\n",
        "def get_player_guess(rows, cols):\n",
        "    \"\"\"Ask the player to guess the location of the treasure.\"\"\"\n",
        "    while True:\n",
        "        try:\n",
        "            row = int(input(f\"Guess the row (0-{rows - 1}): \"))\n",
        "            col = int(input(f\"Guess the column (0-{cols - 1}): \"))\n",
        "            if 0 <= row < rows and 0 <= col < cols:\n",
        "                return (row, col)\n",
        "            else:\n",
        "                print(f\"Invalid input. Please enter row and column between 0 and {rows - 1}.\")\n",
        "        except ValueError:\n",
        "            print(\"Invalid input. Please enter integers for row and column.\")"
      ],
      "metadata": {
        "id": "rxIFWU1Xw6tF"
      },
      "execution_count": 10,
      "outputs": []
    },
    {
      "cell_type": "code",
      "source": [
        "# Function to check if the player has guessed correctly\n",
        "def check_guess(guess, treasure_location, trap_location):\n",
        "    \"\"\"Check if the player's guess is correct, or if they hit the trap.\"\"\"\n",
        "    if guess == treasure_location:\n",
        "        print(\"Congratulations! You found the treasure!\")\n",
        "        return True\n",
        "    elif guess == trap_location:\n",
        "        print(\"Oh no! You've been trapped!\")\n",
        "        return True\n",
        "    else:\n",
        "        print(\"No treasure here. Try again!\")\n",
        "        return False"
      ],
      "metadata": {
        "id": "zGZivE6Mw6qR"
      },
      "execution_count": 11,
      "outputs": []
    },
    {
      "cell_type": "code",
      "source": [
        "# Main function to play the game\n",
        "def play_game():\n",
        "    \"\"\"Main game loop.\"\"\"\n",
        "    rows = int(input(\"Enter the number of rows for the board: \"))\n",
        "    cols = int(input(\"Enter the number of columns for the board: \"))\n",
        "\n",
        "    # Create the board\n",
        "    board = create_board(rows, cols)\n",
        "\n",
        "    # Place the treasure and trap\n",
        "    treasure_location = place_treasure(board, rows, cols)\n",
        "    trap_location = place_trap(board, rows, cols, treasure_location)\n",
        "\n",
        "    # Display the initial board\n",
        "    print(\"\\nBoard:\")\n",
        "    display_board(board)\n",
        "\n",
        "    # Start the game loop\n",
        "    while True:\n",
        "        guess = get_player_guess(rows, cols)\n",
        "        if check_guess(guess, treasure_location, trap_location):\n",
        "            break  # Exit the loop if the player found the treasure or hit the trap\n",
        "\n",
        "    # Reveal the final state of the board\n",
        "    print(\"\\nFinal Board (with treasure and trap revealed):\")\n",
        "    display_board(board)"
      ],
      "metadata": {
        "id": "BZAXezjgw6nj"
      },
      "execution_count": 12,
      "outputs": []
    },
    {
      "cell_type": "code",
      "source": [
        "# Run the game\n",
        "if __name__ == \"__main__\":\n",
        "    play_game()\n"
      ],
      "metadata": {
        "colab": {
          "base_uri": "https://localhost:8080/"
        },
        "id": "zPRkUn_bw6k0",
        "outputId": "18d3f35f-84b4-409f-85bf-7e89fca8129c"
      },
      "execution_count": 13,
      "outputs": [
        {
          "output_type": "stream",
          "name": "stdout",
          "text": [
            "Enter the number of rows for the board: 6\n",
            "Enter the number of columns for the board: 6\n",
            "\n",
            "Board:\n",
            "* * * * * *\n",
            "* X * * * *\n",
            "* * * * * *\n",
            "* * * * * *\n",
            "* * T * * *\n",
            "* * * * * *\n",
            "Guess the row (0-5): 4\n",
            "Guess the column (0-5): 5\n",
            "No treasure here. Try again!\n",
            "Guess the row (0-5): 5\n",
            "Guess the column (0-5): 5\n",
            "No treasure here. Try again!\n",
            "Guess the row (0-5): 2\n",
            "Guess the column (0-5): 2\n",
            "No treasure here. Try again!\n",
            "Guess the row (0-5): 1\n",
            "Guess the column (0-5): 1\n",
            "Oh no! You've been trapped!\n",
            "\n",
            "Final Board (with treasure and trap revealed):\n",
            "* * * * * *\n",
            "* X * * * *\n",
            "* * * * * *\n",
            "* * * * * *\n",
            "* * T * * *\n",
            "* * * * * *\n"
          ]
        }
      ]
    },
    {
      "cell_type": "code",
      "source": [],
      "metadata": {
        "id": "wj0XmCFazGLm"
      },
      "execution_count": null,
      "outputs": []
    }
  ]
}