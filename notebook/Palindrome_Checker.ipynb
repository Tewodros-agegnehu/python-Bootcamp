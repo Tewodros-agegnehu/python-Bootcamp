{
  "nbformat": 4,
  "nbformat_minor": 0,
  "metadata": {
    "colab": {
      "provenance": []
    },
    "kernelspec": {
      "name": "python3",
      "display_name": "Python 3"
    },
    "language_info": {
      "name": "python"
    }
  },
  "cells": [
    {
      "cell_type": "code",
      "execution_count": null,
      "metadata": {
        "id": "WAlPs7bG0luW"
      },
      "outputs": [],
      "source": []
    },
    {
      "cell_type": "markdown",
      "source": [
        "## Palindrome Checker"
      ],
      "metadata": {
        "id": "lDy2yE5b1TwA"
      }
    },
    {
      "cell_type": "markdown",
      "source": [
        "\n",
        "I am writing a program to determine if a given word or sentence is a palindrome. The program will ignore spaces, punctuation, and be case-insensitive. I will use a `for` loop to compare characters from the beginning and end of the string."
      ],
      "metadata": {
        "id": "PaYnGzDD0sPG"
      }
    },
    {
      "cell_type": "code",
      "source": [
        "import re\n",
        "\n",
        "def clean_string(input_string):\n",
        "    \"\"\"\n",
        "    Cleans the input string by removing non-alphanumeric characters and converting it to lowercase.\n",
        "    \"\"\"\n",
        "    # Use regex to remove non-alphanumeric characters and convert to lowercase\n",
        "    cleaned_string = re.sub(r'[^a-zA-Z0-9]', '', input_string).lower()\n",
        "    return cleaned_string\n",
        "\n",
        "def is_palindrome_while(input_string):\n",
        "    \"\"\"\n",
        "    Checks if the input string is a palindrome using a while loop.\n",
        "    \"\"\"\n",
        "    cleaned_string = clean_string(input_string)\n",
        "    left = 0\n",
        "    right = len(cleaned_string) - 1\n",
        "\n",
        "    while left < right:\n",
        "        if cleaned_string[left] != cleaned_string[right]:\n",
        "            return False\n",
        "        left += 1\n",
        "        right -= 1\n",
        "    return True\n",
        "\n",
        "def is_palindrome_for(input_string):\n",
        "    \"\"\"\n",
        "    Checks if the input string is a palindrome using a for loop.\n",
        "    \"\"\"\n",
        "    cleaned_string = clean_string(input_string)\n",
        "    length = len(cleaned_string)\n",
        "\n",
        "    for i in range(length // 2):\n",
        "        if cleaned_string[i] != cleaned_string[length - 1 - i]:\n",
        "            return False\n",
        "    return True\n",
        "\n",
        "# Test cases\n",
        "test_cases = [\n",
        "    \"A man, a plan, a canal, Panama\",\n",
        "    \"Racecar\",\n",
        "    \"No lemon, no melon\",\n",
        "    \"Hello, World!\",\n",
        "    \"12321\",\n",
        "    \"123abc\",\n",
        "    \"Was it a car or a cat I saw?\",\n",
        "    \"Step on no pets\"\n",
        "]\n",
        "\n",
        "# Testing the functions\n",
        "for test in test_cases:\n",
        "    print(f\"Test: '{test}'\")\n",
        "    print(f\"is_palindrome_while: {is_palindrome_while(test)}\")\n",
        "    print(f\"is_palindrome_for: {is_palindrome_for(test)}\")\n",
        "    print()"
      ],
      "metadata": {
        "colab": {
          "base_uri": "https://localhost:8080/"
        },
        "id": "gXoAjwQQ0rsv",
        "outputId": "fc75b0ab-4f1f-4dad-dcb5-6a6c1c033ee9"
      },
      "execution_count": 4,
      "outputs": [
        {
          "output_type": "stream",
          "name": "stdout",
          "text": [
            "Test: 'A man, a plan, a canal, Panama'\n",
            "is_palindrome_while: True\n",
            "is_palindrome_for: True\n",
            "\n",
            "Test: 'Racecar'\n",
            "is_palindrome_while: True\n",
            "is_palindrome_for: True\n",
            "\n",
            "Test: 'No lemon, no melon'\n",
            "is_palindrome_while: True\n",
            "is_palindrome_for: True\n",
            "\n",
            "Test: 'Hello, World!'\n",
            "is_palindrome_while: False\n",
            "is_palindrome_for: False\n",
            "\n",
            "Test: '12321'\n",
            "is_palindrome_while: True\n",
            "is_palindrome_for: True\n",
            "\n",
            "Test: '123abc'\n",
            "is_palindrome_while: False\n",
            "is_palindrome_for: False\n",
            "\n",
            "Test: 'Was it a car or a cat I saw?'\n",
            "is_palindrome_while: True\n",
            "is_palindrome_for: True\n",
            "\n",
            "Test: 'Step on no pets'\n",
            "is_palindrome_while: True\n",
            "is_palindrome_for: True\n",
            "\n"
          ]
        }
      ]
    },
    {
      "cell_type": "code",
      "source": [],
      "metadata": {
        "id": "hIzp0wkq1oEK"
      },
      "execution_count": null,
      "outputs": []
    }
  ]
}