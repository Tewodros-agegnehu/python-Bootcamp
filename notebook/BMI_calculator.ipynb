{
  "nbformat": 4,
  "nbformat_minor": 0,
  "metadata": {
    "colab": {
      "provenance": []
    },
    "kernelspec": {
      "name": "python3",
      "display_name": "Python 3"
    },
    "language_info": {
      "name": "python"
    }
  },
  "cells": [
    {
      "cell_type": "markdown",
      "source": [
        "# BMI Calculator\n",
        "# This program calculates the Body Mass Index (BMI) based on user input and provides a health assessment.\n",
        "# It ensures valid input and categorizes BMI into underweight, normal weight, overweight, or obesity."
      ],
      "metadata": {
        "id": "dkv_kbg3p5xr"
      }
    },
    {
      "cell_type": "code",
      "source": [
        "# Function to get valid user input, ensuring it is a positive number\n",
        "def get_valid_input(prompt):\n",
        "    while True:\n",
        "        try:\n",
        "            value = float(input(prompt))\n",
        "            if value <= 0:\n",
        "                print(\"Error: Value must be greater than zero. Please try again.\")\n",
        "            else:\n",
        "                return value\n",
        "        except ValueError:\n",
        "            print(\"Error: Please enter a valid number.\")"
      ],
      "metadata": {
        "id": "mk6kX_GxpVcw"
      },
      "execution_count": 3,
      "outputs": []
    },
    {
      "cell_type": "code",
      "source": [
        "# Get user input\n",
        "weight = get_valid_input(\"Enter your weight in kilograms: \")\n",
        "height = get_valid_input(\"Enter your height in meters: \")\n"
      ],
      "metadata": {
        "colab": {
          "base_uri": "https://localhost:8080/"
        },
        "id": "xZsNwYvTpVZN",
        "outputId": "13f71a31-2f60-42c8-af92-e0f538332a20"
      },
      "execution_count": 4,
      "outputs": [
        {
          "name": "stdout",
          "output_type": "stream",
          "text": [
            "Enter your weight in kilograms: 78.5\n",
            "Enter your height in meters: 1.6\n"
          ]
        }
      ]
    },
    {
      "cell_type": "code",
      "source": [
        "# Calculate BMI\n",
        "BMI = weight / (height ** 2)"
      ],
      "metadata": {
        "id": "1nCS4VllpVWn"
      },
      "execution_count": 5,
      "outputs": []
    },
    {
      "cell_type": "code",
      "source": [
        "# Determine BMI category\n",
        "if BMI < 18.5:\n",
        "    category = \"Underweight\"\n",
        "elif 18.5 <= BMI <= 24.9:\n",
        "    category = \"Normal weight\"\n",
        "elif 25 <= BMI <= 29.9:\n",
        "    category = \"Overweight\"\n",
        "else:\n",
        "    category = \"Obesity\""
      ],
      "metadata": {
        "id": "zhDB4BfEpVNe"
      },
      "execution_count": 6,
      "outputs": []
    },
    {
      "cell_type": "code",
      "source": [
        "# Display results\n",
        "print(f\"\\nYour BMI is: {BMI:.2f}\")\n",
        "print(f\"Health Assessment: {category}\")"
      ],
      "metadata": {
        "colab": {
          "base_uri": "https://localhost:8080/"
        },
        "id": "8rrCaWO1pU_n",
        "outputId": "26bf6afe-3a37-4a45-b4b8-65759591dfff"
      },
      "execution_count": 7,
      "outputs": [
        {
          "output_type": "stream",
          "name": "stdout",
          "text": [
            "\n",
            "Your BMI is: 30.66\n",
            "Health Assessment: Obesity\n"
          ]
        }
      ]
    },
    {
      "cell_type": "code",
      "source": [],
      "metadata": {
        "id": "QTnF2qIcpUwi"
      },
      "execution_count": null,
      "outputs": []
    },
    {
      "cell_type": "code",
      "source": [],
      "metadata": {
        "id": "KCXFB7brpFoF"
      },
      "execution_count": null,
      "outputs": []
    }
  ]
}